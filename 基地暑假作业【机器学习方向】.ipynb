{
 "cells": [
  {
   "cell_type": "markdown",
   "metadata": {},
   "source": [
    "## 一、Python语法"
   ]
  },
  {
   "cell_type": "markdown",
   "metadata": {},
   "source": [
    "#### 1.九九乘法表"
   ]
  },
  {
   "cell_type": "code",
   "execution_count": 1,
   "metadata": {},
   "outputs": [
    {
     "name": "stdout",
     "output_type": "stream",
     "text": [
      "1x1=1\t\n",
      "2x1=2\t2x2=4\t\n",
      "3x1=3\t3x2=6\t3x3=9\t\n",
      "4x1=4\t4x2=8\t4x3=12\t4x4=16\t\n",
      "5x1=5\t5x2=10\t5x3=15\t5x4=20\t5x5=25\t\n",
      "6x1=6\t6x2=12\t6x3=18\t6x4=24\t6x5=30\t6x6=36\t\n",
      "7x1=7\t7x2=14\t7x3=21\t7x4=28\t7x5=35\t7x6=42\t7x7=49\t\n",
      "8x1=8\t8x2=16\t8x3=24\t8x4=32\t8x5=40\t8x6=48\t8x7=56\t8x8=64\t\n",
      "9x1=9\t9x2=18\t9x3=27\t9x4=36\t9x5=45\t9x6=54\t9x7=63\t9x8=72\t9x9=81\t\n"
     ]
    }
   ],
   "source": [
    "# ①\n",
    "for i in range(1,10):\n",
    "    for j in range(1,i+1):\n",
    "        print('{}x{}={}\\t'.format(i,j,i*j),end='')\n",
    "    print()"
   ]
  },
  {
   "cell_type": "code",
   "execution_count": 3,
   "metadata": {},
   "outputs": [
    {
     "name": "stdout",
     "output_type": "stream",
     "text": [
      "1x1=1  \n",
      "2x1=2 2x2=4  \n",
      "3x1=3 3x2=6 3x3=9  \n",
      "4x1=4 4x2=8 4x3=12 4x4=16  \n",
      "5x1=5 5x2=10 5x3=15 5x4=20 5x5=25  \n",
      "6x1=6 6x2=12 6x3=18 6x4=24 6x5=30 6x6=36  \n",
      "7x1=7 7x2=14 7x3=21 7x4=28 7x5=35 7x6=42 7x7=49  \n",
      "8x1=8 8x2=16 8x3=24 8x4=32 8x5=40 8x6=48 8x7=56 8x8=64  \n",
      "9x1=9 9x2=18 9x3=27 9x4=36 9x5=45 9x6=54 9x7=63 9x8=72 9x9=81  \n"
     ]
    }
   ],
   "source": [
    "# ②\n",
    "for i in range(1,10):\n",
    "    for j in range(1,i+1):\n",
    "        print(\"%dx%d=%d\" % (i,j,i*j),end=\" \")\n",
    "    print (\" \")"
   ]
  },
  {
   "cell_type": "markdown",
   "metadata": {},
   "source": [
    "#### 2.List操作"
   ]
  },
  {
   "cell_type": "code",
   "execution_count": 15,
   "metadata": {},
   "outputs": [
    {
     "data": {
      "text/plain": [
       "30"
      ]
     },
     "execution_count": 15,
     "metadata": {},
     "output_type": "execute_result"
    }
   ],
   "source": [
    "# 参考http://www.runoob.com/python/python-exceptions.html\n",
    "def square_list(a_list):\n",
    "    try:\n",
    "        return sum([i**2 for i in a_list])\n",
    "    except:\n",
    "        print(\"请输入数字\")\n",
    "square_list([1,2,3,4]) "
   ]
  },
  {
   "cell_type": "code",
   "execution_count": 14,
   "metadata": {},
   "outputs": [
    {
     "name": "stdout",
     "output_type": "stream",
     "text": [
      "请输入list:['a',1,2]\n",
      "请输入数字\n"
     ]
    }
   ],
   "source": [
    "a_list=eval(input(\"请输入list:\"))\n",
    "square_list(a_list)"
   ]
  },
  {
   "cell_type": "markdown",
   "metadata": {},
   "source": [
    "#### 3.文本IO操作"
   ]
  },
  {
   "cell_type": "code",
   "execution_count": 67,
   "metadata": {},
   "outputs": [
    {
     "name": "stdout",
     "output_type": "stream",
     "text": [
      "你想输入多少个整数：6\n",
      "输入整数：8\n",
      "输入整数：9\n",
      "输入整数：5\n",
      "输入整数：4\n",
      "输入整数：10\n",
      "输入整数：5\n"
     ]
    }
   ],
   "source": [
    "# 参考http://www.runoob.com/python/python-files-io.html\n",
    "# 写一个data.txt\n",
    "with open(\"data.txt\",\"w\") as f:\n",
    "    num_total=eval(input(\"你想输入多少个整数：\"))\n",
    "    for i in range(num_total):\n",
    "        int_num=input(\"输入整数：\")\n",
    "        f.write(int_num+\"\\n\")"
   ]
  },
  {
   "cell_type": "code",
   "execution_count": 73,
   "metadata": {},
   "outputs": [
    {
     "name": "stdout",
     "output_type": "stream",
     "text": [
      "[4, 5, 5, 8, 9, 10]\n"
     ]
    }
   ],
   "source": [
    "# 读data.txt，写入data_asc.txt\n",
    "number=[]\n",
    "for line in open(\"data.txt\",\"r\"):\n",
    "    line = eval(line.rstrip('\\n'))\n",
    "    number.append(line)\n",
    "asc_num=sorted(number)\n",
    "print(asc_num)\n",
    "with open(\"data_asc.txt\",\"w\") as f:\n",
    "    for i in asc_num:\n",
    "        f.write(str(i)+\"\\n\")       "
   ]
  },
  {
   "cell_type": "code",
   "execution_count": 74,
   "metadata": {},
   "outputs": [
    {
     "name": "stdout",
     "output_type": "stream",
     "text": [
      "4\n",
      "5\n",
      "5\n",
      "8\n",
      "9\n",
      "10\n",
      "\n"
     ]
    }
   ],
   "source": [
    "# 查看一下\n",
    "with open(\"data_asc.txt\",\"r\") as f:\n",
    "    something=f.read()\n",
    "    print(something)"
   ]
  },
  {
   "cell_type": "markdown",
   "metadata": {},
   "source": [
    "#### 4.数字操作"
   ]
  },
  {
   "cell_type": "code",
   "execution_count": 77,
   "metadata": {},
   "outputs": [
    {
     "name": "stdout",
     "output_type": "stream",
     "text": [
      "12\t13\t14\t15\t16\t17\t18\t19\t\n",
      "23\t24\t25\t26\t27\t28\t29\t\n",
      "34\t35\t36\t37\t38\t39\t\n",
      "45\t46\t47\t48\t49\t\n",
      "56\t57\t58\t59\t\n",
      "67\t68\t69\t\n",
      "78\t79\t\n",
      "89\t\n"
     ]
    }
   ],
   "source": [
    "# ①\n",
    "for i in range(1,9):\n",
    "    for j in range(2,10):\n",
    "        if i<j :\n",
    "            print('{}{}\\t'.format(i,j),end='')\n",
    "    print()"
   ]
  },
  {
   "cell_type": "code",
   "execution_count": 84,
   "metadata": {},
   "outputs": [
    {
     "name": "stdout",
     "output_type": "stream",
     "text": [
      "12\t13\t14\t15\t16\t17\t18\t19\t23\t24\t25\t26\t27\t28\t29\t34\t35\t36\t37\t38\t39\t45\t46\t47\t48\t49\t56\t57\t58\t59\t67\t68\t69\t78\t79\t89\t"
     ]
    }
   ],
   "source": [
    "# ②\n",
    "for num in range(10,100):\n",
    "    if (num/10)<(num%10):\n",
    "        print('{}\\t'.format(num),end='')"
   ]
  },
  {
   "cell_type": "markdown",
   "metadata": {},
   "source": [
    "## 二、观看吴恩达ML视频"
   ]
  },
  {
   "cell_type": "markdown",
   "metadata": {},
   "source": [
    "## 三、感想与看法"
   ]
  },
  {
   "cell_type": "markdown",
   "metadata": {},
   "source": [
    "## 四、Numpy 和 Pandas"
   ]
  },
  {
   "cell_type": "markdown",
   "metadata": {},
   "source": [
    "## 五、读取xlsx文件操作"
   ]
  },
  {
   "cell_type": "code",
   "execution_count": 93,
   "metadata": {},
   "outputs": [
    {
     "name": "stdout",
     "output_type": "stream",
     "text": [
      "读取第二行： [0.0, 1.2, 200.0, 6.0, '', 0.0]\n",
      "读取第一列： ['X1', 0.0, 1.0, 2.0, 3.0, 4.0, 5.0, 6.0, 7.0, 8.0, 9.0, 10.0]\n",
      "读取第一行第六个字符： Y\n"
     ]
    }
   ],
   "source": [
    "# 参考https://blog.csdn.net/index20001/article/details/73844576\n",
    "import xlrd\n",
    " \n",
    "workbook = xlrd.open_workbook('data.xlsx')\n",
    "booksheet = workbook.sheet_by_index(0)         #用索引取第一个sheet\n",
    "\n",
    "#读取第二行数据\n",
    "row_2 = booksheet.row_values(1)\n",
    "print(\"读取第二行：\",row_2)\n",
    "#读取第一列数据\n",
    "column_1=booksheet.col_values(0)\n",
    "print(\"读取第一列：\",column_1)\n",
    "#读第一行第六列单元格数据\n",
    "cell_1_6 = booksheet.cell_value(0,5)\n",
    "print(\"读取第一行第六个字符：\",cell_1_6)"
   ]
  },
  {
   "cell_type": "markdown",
   "metadata": {},
   "source": [
    "## 六、PPT展示成果"
   ]
  },
  {
   "cell_type": "markdown",
   "metadata": {},
   "source": [
    "## 选做：线性拟合\n",
    "选用的数据为scikit-learn自带的波士顿房价数据集"
   ]
  },
  {
   "cell_type": "markdown",
   "metadata": {},
   "source": [
    "#### 1.首先，先导入数据"
   ]
  },
  {
   "cell_type": "code",
   "execution_count": 94,
   "metadata": {},
   "outputs": [
    {
     "data": {
      "text/plain": [
       "(506, 13)"
      ]
     },
     "execution_count": 94,
     "metadata": {},
     "output_type": "execute_result"
    }
   ],
   "source": [
    "from sklearn.datasets import load_boston\n",
    "\n",
    "boston=load_boston()\n",
    "X=boston.data\n",
    "y=boston.target\n",
    "X.shape     # 输出数据集的大小"
   ]
  },
  {
   "cell_type": "code",
   "execution_count": 97,
   "metadata": {},
   "outputs": [
    {
     "data": {
      "text/plain": [
       "array([6.320e-03, 1.800e+01, 2.310e+00, 0.000e+00, 5.380e-01, 6.575e+00,\n",
       "       6.520e+01, 4.090e+00, 1.000e+00, 2.960e+02, 1.530e+01, 3.969e+02,\n",
       "       4.980e+00])"
      ]
     },
     "execution_count": 97,
     "metadata": {},
     "output_type": "execute_result"
    }
   ],
   "source": [
    "X[0]       # 查看一下样本数据"
   ]
  },
  {
   "cell_type": "code",
   "execution_count": 98,
   "metadata": {},
   "outputs": [
    {
     "data": {
      "text/plain": [
       "array(['CRIM', 'ZN', 'INDUS', 'CHAS', 'NOX', 'RM', 'AGE', 'DIS', 'RAD',\n",
       "       'TAX', 'PTRATIO', 'B', 'LSTAT'], dtype='<U7')"
      ]
     },
     "execution_count": 98,
     "metadata": {},
     "output_type": "execute_result"
    }
   ],
   "source": [
    "boston.feature_names    # 查看一下特征的标签"
   ]
  },
  {
   "cell_type": "markdown",
   "metadata": {},
   "source": [
    "#### 2.模型训练\n",
    "将数据的20%为测试集，80%为训练集"
   ]
  },
  {
   "cell_type": "code",
   "execution_count": 100,
   "metadata": {},
   "outputs": [],
   "source": [
    "from sklearn.model_selection import train_test_split\n",
    "\n",
    "X_train,X_test,y_train,y_test=train_test_split(X,y,test_size=0.2,random_state=3)"
   ]
  },
  {
   "cell_type": "code",
   "execution_count": 103,
   "metadata": {},
   "outputs": [
    {
     "name": "stdout",
     "output_type": "stream",
     "text": [
      "elaspe:0.004071;train_score:0.723941;cv_score:0.794958\n"
     ]
    }
   ],
   "source": [
    "import time\n",
    "from sklearn.linear_model import LinearRegression\n",
    "\n",
    "model=LinearRegression()\n",
    "start=time.clock()             # 用于计算时间\n",
    "model.fit(X_train,y_train)     # 模型训练\n",
    "\n",
    "train_score=model.score(X_train,y_train)    # 模型对训练样本的准确率得分\n",
    "cv_score=model.score(X_test,y_test)         # 模型对测试样本的准确率得分\n",
    "print('elaspe:{0:.6f};train_score:{1:0.6f};cv_score:{2:.6f}'.format(time.clock()-start,train_score,cv_score))"
   ]
  },
  {
   "cell_type": "markdown",
   "metadata": {},
   "source": [
    "#### 结果分析：\n",
    "    从得分情况来看，模型拟合效果一般！训练样本的评分较低（train_score：0.723941），猜测欠拟合，考虑增大多项式阶数来优化模型"
   ]
  },
  {
   "cell_type": "markdown",
   "metadata": {},
   "source": [
    "#### 3.模型优化"
   ]
  },
  {
   "cell_type": "code",
   "execution_count": 104,
   "metadata": {
    "collapsed": true
   },
   "outputs": [],
   "source": [
    "from sklearn.linear_model import LinearRegression\n",
    "from sklearn.preprocessing import PolynomialFeatures\n",
    "from sklearn.pipeline import Pipeline\n",
    "\n",
    "def polynomial_model(degree=1):\n",
    "    polynomial_features=PolynomialFeatures(degree=degree,include_bias=False)\n",
    "    linear_regression=LinearRegression(normalize=True)\n",
    "    pipeline=Pipeline([(\"polynomial_features\",polynomial_features),(\"linear_regression\",linear_regression)])\n",
    "    return pipeline"
   ]
  },
  {
   "cell_type": "markdown",
   "metadata": {},
   "source": [
    "用二阶多项式来拟合"
   ]
  },
  {
   "cell_type": "code",
   "execution_count": 105,
   "metadata": {},
   "outputs": [
    {
     "name": "stdout",
     "output_type": "stream",
     "text": [
      "elaspe:0.308509;train_score:0.930547;cv_score:0.860465\n"
     ]
    }
   ],
   "source": [
    "model=polynomial_model(degree=2)\n",
    "\n",
    "start=time.clock()             # 用于计算时间\n",
    "model.fit(X_train,y_train)     # 模型训练\n",
    "train_score=model.score(X_train,y_train)    # 模型对训练样本的准确率得分\n",
    "cv_score=model.score(X_test,y_test)         # 模型对测试样本的准确率得分\n",
    "print('elaspe:{0:.6f};train_score:{1:0.6f};cv_score:{2:.6f}'.format(time.clock()-start,train_score,cv_score))"
   ]
  },
  {
   "cell_type": "markdown",
   "metadata": {},
   "source": [
    "用三阶多项式来拟合"
   ]
  },
  {
   "cell_type": "code",
   "execution_count": 106,
   "metadata": {},
   "outputs": [
    {
     "name": "stdout",
     "output_type": "stream",
     "text": [
      "elaspe:0.408610;train_score:1.000000;cv_score:-101.629888\n"
     ]
    }
   ],
   "source": [
    "model=polynomial_model(degree=3)\n",
    "\n",
    "start=time.clock()             # 用于计算时间\n",
    "model.fit(X_train,y_train)     # 模型训练\n",
    "train_score=model.score(X_train,y_train)    # 模型对训练样本的准确率得分\n",
    "cv_score=model.score(X_test,y_test)         # 模型对测试样本的准确率得分\n",
    "print('elaspe:{0:.6f};train_score:{1:0.6f};cv_score:{2:.6f}'.format(time.clock()-start,train_score,cv_score))"
   ]
  },
  {
   "cell_type": "markdown",
   "metadata": {},
   "source": [
    "#### 结果分析\n",
    "    二阶多项式模型拟合效果有明显提高！\n",
    "    三阶多项式的测试样本得分为负数，出现过拟合！\n",
    "    由此：二阶多项式模型较为合适"
   ]
  }
 ],
 "metadata": {
  "kernelspec": {
   "display_name": "Python 3",
   "language": "python",
   "name": "python3"
  },
  "language_info": {
   "codemirror_mode": {
    "name": "ipython",
    "version": 3
   },
   "file_extension": ".py",
   "mimetype": "text/x-python",
   "name": "python",
   "nbconvert_exporter": "python",
   "pygments_lexer": "ipython3",
   "version": "3.6.3"
  }
 },
 "nbformat": 4,
 "nbformat_minor": 2
}
